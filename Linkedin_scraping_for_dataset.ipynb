{
 "cells": [
  {
   "cell_type": "code",
   "execution_count": 4,
   "metadata": {},
   "outputs": [],
   "source": [
    "import requests\n",
    "from lxml import html\n",
    "import os,csv,json\n",
    "import sys\n",
    "from time import sleep\n",
    "import pandas as pd\n",
    "import numpy as np"
   ]
  },
  {
   "cell_type": "code",
   "execution_count": 9,
   "metadata": {},
   "outputs": [],
   "source": [
    "def linkedin_parser(url):\n",
    "    for i in range(5):\n",
    "        try:\n",
    "            headers = {\n",
    "                        'User-Agent': 'Mozilla/5.0 (X11; Linux x86_64) AppleWebKit/537.36 (KHTML, like Gecko) Chrome/42.0.2311.90 Safari/537.36'\n",
    "            }\n",
    "            print (\"Fetching :\",url)     \n",
    "            response = requests.get(url, headers = headers,verify=False)\n",
    "            formatted_response = response.content.replace('<!--', '').replace('-->', '')\n",
    "            doc = html.fromstring(formatted_response)\n",
    "            datafrom_xpath = doc.xpath('//code[@id=\"stream-promo-top-bar-embed-id-content\"]//text()')\n",
    "            content_about = doc.xpath('//code[@id=\"stream-about-section-embed-id-content\"]')\n",
    "            if not content_about:\n",
    "                content_about = doc.xpath('//code[@id=\"stream-footer-embed-id-content\"]')\n",
    "            if content_about:\n",
    "                pass\n",
    "                # json_text = content_about[0].html_content().replace('<code id=\"stream-footer-embed-id-content\"><!--','').replace('<code id=\"stream-about-section-embed-id-content\"><!--','').replace('--></code>','')\n",
    "            \n",
    "            if datafrom_xpath:\n",
    "                try:\n",
    "                    json_formatted_data = json.loads(datafrom_xpath[0])\n",
    "                    company_name = json_formatted_data['companyName'] if 'companyName' in json_formatted_data.keys() else None\n",
    "                    size = json_formatted_data['size'] if 'size' in json_formatted_data.keys() else None\n",
    "                    industry = json_formatted_data['industry'] if 'industry' in json_formatted_data.keys() else None\n",
    "                    description = json_formatted_data['description'] if 'description' in json_formatted_data.keys() else None\n",
    "                    follower_count = json_formatted_data['followerCount'] if 'followerCount' in json_formatted_data.keys() else None\n",
    "                    year_founded = json_formatted_data['yearFounded'] if 'yearFounded' in json_formatted_data.keys() else None\n",
    "                    website = json_formatted_data['website'] if 'website' in json_formatted_data.keys() else None\n",
    "                    type = json_formatted_data['companyType'] if 'companyType' in json_formatted_data.keys() else None\n",
    "                    specialities = json_formatted_data['specialties'] if 'specialties' in json_formatted_data.keys() else None\n",
    "\n",
    "                    if \"headquarters\" in json_formatted_data.keys():\n",
    "                        city = json_formatted_data[\"headquarters\"]['city'] if 'city' in json_formatted_data[\"headquarters\"].keys() else None\n",
    "                        country = json_formatted_data[\"headquarters\"]['country'] if 'country' in json_formatted_data['headquarters'].keys() else None\n",
    "                        state = json_formatted_data[\"headquarters\"]['state'] if 'state' in json_formatted_data['headquarters'].keys() else None\n",
    "                        street1 = json_formatted_data[\"headquarters\"]['street1'] if 'street1' in json_formatted_data['headquarters'].keys() else None\n",
    "                        street2 = json_formatted_data[\"headquarters\"]['street2'] if 'street2' in json_formatted_data['headquarters'].keys() else None\n",
    "                        zip = json_formatted_data[\"headquarters\"]['zip'] if 'zip' in json_formatted_data['headquarters'].keys() else None\n",
    "                        street = street1 + ', ' + street2\n",
    "                    else:\n",
    "                        city = None\n",
    "                        country = None\n",
    "                        state = None\n",
    "                        street1 = None\n",
    "                        street2 = None\n",
    "                        street = None\n",
    "                        zip = None\n",
    "\n",
    "                    data = {\n",
    "                                'company_name': company_name,\n",
    "                                'size': size,\n",
    "                                'industry': industry,\n",
    "                                'description': description,\n",
    "                                'follower_count': follower_count,\n",
    "                                'founded': year_founded,\n",
    "                                'website': website,\n",
    "                                'type': type,\n",
    "                                'specialities': specialities,\n",
    "                                'city': city,\n",
    "                                'country': country,\n",
    "                                'state': state,\n",
    "                                'street': street,\n",
    "                                'zip': zip,\n",
    "                                'url': url\n",
    "                            }\n",
    "                    return data\n",
    "                except:\n",
    "                    print (\"cant parse page\", url)\n",
    "\n",
    "            # Retry in case of captcha or login page redirection\n",
    "            if len(response.content) < 2000 or \"trk=login_reg_redirect\" in url:\n",
    "                if response.status_code == 404:\n",
    "                    print (\"linkedin page not found\")\n",
    "                else:\n",
    "                    raise ValueError('redirecting to login page or captcha found')\n",
    "        except :\n",
    "            print (\"retrying :\",url)\n"
   ]
  },
  {
   "cell_type": "code",
   "execution_count": 10,
   "metadata": {},
   "outputs": [],
   "source": [
    "def readurls():\n",
    "    companyurls = ['https://www.linkedin.com/company/tata-consultancy-services']\n",
    "    extracted_data = []\n",
    "    for url in companyurls:\n",
    "        extracted_data.append(linkedin_parser(url))\n",
    "        f = open('data.json', 'w')\n",
    "        json.dump(extracted_data, f, indent=4)\n"
   ]
  },
  {
   "cell_type": "code",
   "execution_count": 13,
   "metadata": {},
   "outputs": [
    {
     "name": "stdout",
     "output_type": "stream",
     "text": [
      "Fetching : https://www.linkedin.com/company/tata-consultancy-services\n",
      "retrying : https://www.linkedin.com/company/tata-consultancy-services\n",
      "Fetching : https://www.linkedin.com/company/tata-consultancy-services\n",
      "retrying : https://www.linkedin.com/company/tata-consultancy-services\n",
      "Fetching : https://www.linkedin.com/company/tata-consultancy-services\n",
      "retrying : https://www.linkedin.com/company/tata-consultancy-services\n",
      "Fetching : https://www.linkedin.com/company/tata-consultancy-services\n",
      "retrying : https://www.linkedin.com/company/tata-consultancy-services\n",
      "Fetching : https://www.linkedin.com/company/tata-consultancy-services\n",
      "retrying : https://www.linkedin.com/company/tata-consultancy-services\n"
     ]
    }
   ],
   "source": [
    " \n",
    " \n",
    "if __name__ == \"__main__\":\n",
    "    readurls()"
   ]
  },
  {
   "cell_type": "code",
   "execution_count": 12,
   "metadata": {},
   "outputs": [],
   "source": [
    "import urllib3\n",
    "urllib3.disable_warnings()"
   ]
  },
  {
   "cell_type": "code",
   "execution_count": 17,
   "metadata": {},
   "outputs": [],
   "source": [
    "import parsel\n",
    "from selenium import webdriver"
   ]
  },
  {
   "cell_type": "code",
   "execution_count": 18,
   "metadata": {},
   "outputs": [
    {
     "ename": "WebDriverException",
     "evalue": "Message: 'chromedriver' executable needs to be in PATH. Please see https://sites.google.com/a/chromium.org/chromedriver/home\n",
     "output_type": "error",
     "traceback": [
      "\u001b[1;31m---------------------------------------------------------------------------\u001b[0m",
      "\u001b[1;31mFileNotFoundError\u001b[0m                         Traceback (most recent call last)",
      "\u001b[1;32m~\\Anaconda3\\lib\\site-packages\\selenium\\webdriver\\common\\service.py\u001b[0m in \u001b[0;36mstart\u001b[1;34m(self)\u001b[0m\n\u001b[0;32m     75\u001b[0m                                             \u001b[0mstderr\u001b[0m\u001b[1;33m=\u001b[0m\u001b[0mself\u001b[0m\u001b[1;33m.\u001b[0m\u001b[0mlog_file\u001b[0m\u001b[1;33m,\u001b[0m\u001b[1;33m\u001b[0m\u001b[1;33m\u001b[0m\u001b[0m\n\u001b[1;32m---> 76\u001b[1;33m                                             stdin=PIPE)\n\u001b[0m\u001b[0;32m     77\u001b[0m         \u001b[1;32mexcept\u001b[0m \u001b[0mTypeError\u001b[0m\u001b[1;33m:\u001b[0m\u001b[1;33m\u001b[0m\u001b[1;33m\u001b[0m\u001b[0m\n",
      "\u001b[1;32m~\\Anaconda3\\lib\\subprocess.py\u001b[0m in \u001b[0;36m__init__\u001b[1;34m(self, args, bufsize, executable, stdin, stdout, stderr, preexec_fn, close_fds, shell, cwd, env, universal_newlines, startupinfo, creationflags, restore_signals, start_new_session, pass_fds, encoding, errors, text)\u001b[0m\n\u001b[0;32m    768\u001b[0m                                 \u001b[0merrread\u001b[0m\u001b[1;33m,\u001b[0m \u001b[0merrwrite\u001b[0m\u001b[1;33m,\u001b[0m\u001b[1;33m\u001b[0m\u001b[1;33m\u001b[0m\u001b[0m\n\u001b[1;32m--> 769\u001b[1;33m                                 restore_signals, start_new_session)\n\u001b[0m\u001b[0;32m    770\u001b[0m         \u001b[1;32mexcept\u001b[0m\u001b[1;33m:\u001b[0m\u001b[1;33m\u001b[0m\u001b[1;33m\u001b[0m\u001b[0m\n",
      "\u001b[1;32m~\\Anaconda3\\lib\\subprocess.py\u001b[0m in \u001b[0;36m_execute_child\u001b[1;34m(self, args, executable, preexec_fn, close_fds, pass_fds, cwd, env, startupinfo, creationflags, shell, p2cread, p2cwrite, c2pread, c2pwrite, errread, errwrite, unused_restore_signals, unused_start_new_session)\u001b[0m\n\u001b[0;32m   1171\u001b[0m                                          \u001b[0mos\u001b[0m\u001b[1;33m.\u001b[0m\u001b[0mfspath\u001b[0m\u001b[1;33m(\u001b[0m\u001b[0mcwd\u001b[0m\u001b[1;33m)\u001b[0m \u001b[1;32mif\u001b[0m \u001b[0mcwd\u001b[0m \u001b[1;32mis\u001b[0m \u001b[1;32mnot\u001b[0m \u001b[1;32mNone\u001b[0m \u001b[1;32melse\u001b[0m \u001b[1;32mNone\u001b[0m\u001b[1;33m,\u001b[0m\u001b[1;33m\u001b[0m\u001b[1;33m\u001b[0m\u001b[0m\n\u001b[1;32m-> 1172\u001b[1;33m                                          startupinfo)\n\u001b[0m\u001b[0;32m   1173\u001b[0m             \u001b[1;32mfinally\u001b[0m\u001b[1;33m:\u001b[0m\u001b[1;33m\u001b[0m\u001b[1;33m\u001b[0m\u001b[0m\n",
      "\u001b[1;31mFileNotFoundError\u001b[0m: [WinError 2] The system cannot find the file specified",
      "\nDuring handling of the above exception, another exception occurred:\n",
      "\u001b[1;31mWebDriverException\u001b[0m                        Traceback (most recent call last)",
      "\u001b[1;32m<ipython-input-18-76809c21eb9b>\u001b[0m in \u001b[0;36m<module>\u001b[1;34m\u001b[0m\n\u001b[0;32m      1\u001b[0m \u001b[1;33m\u001b[0m\u001b[0m\n\u001b[0;32m      2\u001b[0m \u001b[1;31m# specifies the path to the chromedriver.exe\u001b[0m\u001b[1;33m\u001b[0m\u001b[1;33m\u001b[0m\u001b[1;33m\u001b[0m\u001b[0m\n\u001b[1;32m----> 3\u001b[1;33m \u001b[0mdriver\u001b[0m \u001b[1;33m=\u001b[0m \u001b[0mwebdriver\u001b[0m\u001b[1;33m.\u001b[0m\u001b[0mChrome\u001b[0m\u001b[1;33m(\u001b[0m\u001b[1;34m'/Users/umairansari/bin/chromedriver'\u001b[0m\u001b[1;33m)\u001b[0m\u001b[1;33m\u001b[0m\u001b[1;33m\u001b[0m\u001b[0m\n\u001b[0m\u001b[0;32m      4\u001b[0m \u001b[1;33m\u001b[0m\u001b[0m\n\u001b[0;32m      5\u001b[0m \u001b[1;31m# driver.get method() will navigate to a page given by the URL address\u001b[0m\u001b[1;33m\u001b[0m\u001b[1;33m\u001b[0m\u001b[1;33m\u001b[0m\u001b[0m\n",
      "\u001b[1;32m~\\Anaconda3\\lib\\site-packages\\selenium\\webdriver\\chrome\\webdriver.py\u001b[0m in \u001b[0;36m__init__\u001b[1;34m(self, executable_path, port, options, service_args, desired_capabilities, service_log_path, chrome_options, keep_alive)\u001b[0m\n\u001b[0;32m     71\u001b[0m             \u001b[0mservice_args\u001b[0m\u001b[1;33m=\u001b[0m\u001b[0mservice_args\u001b[0m\u001b[1;33m,\u001b[0m\u001b[1;33m\u001b[0m\u001b[1;33m\u001b[0m\u001b[0m\n\u001b[0;32m     72\u001b[0m             log_path=service_log_path)\n\u001b[1;32m---> 73\u001b[1;33m         \u001b[0mself\u001b[0m\u001b[1;33m.\u001b[0m\u001b[0mservice\u001b[0m\u001b[1;33m.\u001b[0m\u001b[0mstart\u001b[0m\u001b[1;33m(\u001b[0m\u001b[1;33m)\u001b[0m\u001b[1;33m\u001b[0m\u001b[1;33m\u001b[0m\u001b[0m\n\u001b[0m\u001b[0;32m     74\u001b[0m \u001b[1;33m\u001b[0m\u001b[0m\n\u001b[0;32m     75\u001b[0m         \u001b[1;32mtry\u001b[0m\u001b[1;33m:\u001b[0m\u001b[1;33m\u001b[0m\u001b[1;33m\u001b[0m\u001b[0m\n",
      "\u001b[1;32m~\\Anaconda3\\lib\\site-packages\\selenium\\webdriver\\common\\service.py\u001b[0m in \u001b[0;36mstart\u001b[1;34m(self)\u001b[0m\n\u001b[0;32m     81\u001b[0m                 raise WebDriverException(\n\u001b[0;32m     82\u001b[0m                     \"'%s' executable needs to be in PATH. %s\" % (\n\u001b[1;32m---> 83\u001b[1;33m                         os.path.basename(self.path), self.start_error_message)\n\u001b[0m\u001b[0;32m     84\u001b[0m                 )\n\u001b[0;32m     85\u001b[0m             \u001b[1;32melif\u001b[0m \u001b[0merr\u001b[0m\u001b[1;33m.\u001b[0m\u001b[0merrno\u001b[0m \u001b[1;33m==\u001b[0m \u001b[0merrno\u001b[0m\u001b[1;33m.\u001b[0m\u001b[0mEACCES\u001b[0m\u001b[1;33m:\u001b[0m\u001b[1;33m\u001b[0m\u001b[1;33m\u001b[0m\u001b[0m\n",
      "\u001b[1;31mWebDriverException\u001b[0m: Message: 'chromedriver' executable needs to be in PATH. Please see https://sites.google.com/a/chromium.org/chromedriver/home\n"
     ]
    }
   ],
   "source": [
    "\n",
    "# specifies the path to the chromedriver.exe\n",
    "driver = webdriver.Chrome('/Users/umairansari/bin/chromedriver')\n",
    "\n",
    "# driver.get method() will navigate to a page given by the URL address\n",
    "driver.get('https://www.linkedin.com')"
   ]
  },
  {
   "cell_type": "code",
   "execution_count": null,
   "metadata": {},
   "outputs": [],
   "source": [
    "Path = \"profiles/\"\n",
    "filelist = os.listdir(Path)"
   ]
  },
  {
   "cell_type": "code",
   "execution_count": null,
   "metadata": {},
   "outputs": [],
   "source": [
    "def read_all():\n",
    "    \n",
    "    flag=0\n",
    "    flag2=0\n",
    "    \n",
    "    user_keys = ['alias', 'username', 'numberPosts', 'descriptionProfile', 'numberFollowers', 'numberFollowing', 'urlProfile', 'urlImgProfile', 'website'] # The keys you want\n",
    "    post_keys = ['url', 'urlImage', 'numberLikes', 'numberComments', 'localization', 'date', 'description', 'tags', 'multipleImage', 'mentions', 'isVideo', 'filename'] # The keys you want\n",
    "    \n",
    "    #user_cols=['urlProfile', 'numberPosts', 'alias', 'descriptionProfile',  'numberFollowers', 'urlImgProfile', 'username', 'website', 'numberFollowing']\n",
    "    user_cols=['urlProfile', 'alias', 'numberFollowing', 'numberFollowers', 'username', 'numberPosts', 'website', 'descriptionProfile',  'urlImgProfile']\n",
    "    # might switch multipleImage and isVideo\n",
    "    post_cols = ['url', 'description',  'date', 'numberLikes', 'tags', 'filename', 'urlImage', 'numberComments', 'localization', 'isVideo', 'multipleImage', 'mentions']\n",
    "    \n",
    "    for k in filelist:\n",
    "        if k.endswith(\".json\"):  # You could also add \"and i.startswith('f')\n",
    "            \n",
    "            # Read file\n",
    "            with open(Path + str(k)) as json_data:\n",
    "                        data = json.load(json_data)\n",
    "                            \n",
    "            if (data['posts']!=[]):\n",
    "                \n",
    "                if data[\"descriptionProfile\"]!=None:\n",
    "                    temp=data[\"descriptionProfile\"]\n",
    "                    data[\"descriptionProfile\"]=temp[0]\n",
    "                           \n",
    "                # Generate user data\n",
    "                user_data=dict((k, data[k]) for k in user_keys if k in data)\n",
    "                user_df=pd.DataFrame.from_dict(user_data, orient='index').T\n",
    "\n",
    "                # Generate posts data for given user\n",
    "                for i in range(0,len(data['posts'])):\n",
    "                    \n",
    "                    for k in post_keys:\n",
    "                        if k in data['posts'][i]:\n",
    "                            if isinstance(data['posts'][i][k], str):\n",
    "                                data['posts'][i][k]=data['posts'][i][k].replace('\\r','')\n",
    "\n",
    "                    post=dict((k, data['posts'][i][k]) for k in post_keys if k in data['posts'][i])\n",
    "\n",
    "                    if (flag==0):\n",
    "                        all_posts=np.hstack((user_df, pd.DataFrame.from_dict(post, orient='index').T))\n",
    "                        flag=1\n",
    "                    else:\n",
    "                        new_post=np.hstack((user_df, pd.DataFrame.from_dict(post, orient='index').T))\n",
    "                        all_posts=np.vstack((all_posts,new_post)) \n",
    "\n",
    "\n",
    "                if (flag2==0):\n",
    "                    total=pd.DataFrame(all_posts, columns=list(reversed(user_keys))+list(reversed(post_keys)))\n",
    "                    flag2=1\n",
    "                else:\n",
    "                    total=np.vstack((total,pd.DataFrame(all_posts, columns=list(reversed(user_keys))+list(reversed(post_keys)))))   \n",
    "           \n",
    "                flag=0\n",
    "\n",
    "    dataset=pd.DataFrame(total, columns=user_cols+post_cols)\n",
    "    return dataset[[\"alias\", \"username\", \"numberFollowers\", \"numberFollowing\", \"numberPosts\", 'urlProfile', 'urlImgProfile', 'descriptionProfile', 'website', 'filename', 'url', 'urlImage', 'numberLikes', 'numberComments', 'description', 'tags', 'mentions', 'localization', 'date', 'multipleImage', 'isVideo']]\n",
    "In [1]:"
   ]
  }
 ],
 "metadata": {
  "kernelspec": {
   "display_name": "Python 3",
   "language": "python",
   "name": "python3"
  },
  "language_info": {
   "codemirror_mode": {
    "name": "ipython",
    "version": 3
   },
   "file_extension": ".py",
   "mimetype": "text/x-python",
   "name": "python",
   "nbconvert_exporter": "python",
   "pygments_lexer": "ipython3",
   "version": "3.7.1"
  }
 },
 "nbformat": 4,
 "nbformat_minor": 2
}
